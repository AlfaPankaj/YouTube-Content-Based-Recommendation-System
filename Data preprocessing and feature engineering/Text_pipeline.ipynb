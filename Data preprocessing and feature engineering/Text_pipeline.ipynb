{
 "cells": [
  {
   "cell_type": "code",
   "execution_count": 1,
   "id": "da32f860-121b-4b95-826e-cc5c0d2ba811",
   "metadata": {},
   "outputs": [],
   "source": [
    "# Our goal is to convert the text columns into the a nnumerical format\n",
    "# Text soup -- title+description+tags -> A single combined string of text\n",
    "# TF-IDF vectorization"
   ]
  },
  {
   "cell_type": "code",
   "execution_count": 2,
   "id": "230af0d5-6f48-4519-a11e-cf0fd60bd343",
   "metadata": {
    "jupyter": {
     "source_hidden": true
    }
   },
   "outputs": [],
   "source": [
    "# library\n",
    "\n",
    "import pandas as pd\n",
    "import json\n",
    "from sklearn.feature_extraction.text import TfidfVectorizer"
   ]
  },
  {
   "cell_type": "code",
   "execution_count": 3,
   "id": "abe71d65-122a-4e58-b11b-7dda9c3f32e0",
   "metadata": {
    "jupyter": {
     "source_hidden": true
    }
   },
   "outputs": [
    {
     "name": "stdout",
     "output_type": "stream",
     "text": [
      "'text_soup' feature created successfully\n"
     ]
    }
   ],
   "source": [
    "# load file and text soup\n",
    "\n",
    "df = pd.read_csv('youtube_data_clean.csv')\n",
    "\n",
    "def parse_tags(tags_str):\n",
    "    try:\n",
    "        tags_list = json.loads(tags_str)\n",
    "        return ' '.join(tags_list)\n",
    "    except(json.JSONDecodeError, TypeError):\n",
    "        print(\"String tags are missing\")\n",
    "        return ''\n",
    "\n",
    "df['tags_clean'] = df['tags'].apply(parse_tags)\n",
    "\n",
    "df['text_soup'] = (\n",
    "    df['title'].fillna('') + '' +\n",
    "    df['description'].fillna('') + '' +\n",
    "    df['tags_clean']\n",
    ")\n",
    "\n",
    "print(\"'text_soup' feature created successfully\")"
   ]
  },
  {
   "cell_type": "code",
   "execution_count": 4,
   "id": "9bd8bcd1-18ff-417b-9fc0-69801d61827e",
   "metadata": {
    "jupyter": {
     "source_hidden": true
    }
   },
   "outputs": [
    {
     "name": "stdout",
     "output_type": "stream",
     "text": [
      "TF-IDF matrix created\n",
      "\n",
      " shape of the matrix: (5419, 76837)\n"
     ]
    }
   ],
   "source": [
    "# TF-IDF vectorization\n",
    "\n",
    "tfidf = TfidfVectorizer(stop_words='english')\n",
    "\n",
    "tfidf_matrix = tfidf.fit_transform(df['text_soup'])\n",
    "\n",
    "print(\"TF-IDF matrix created\")\n",
    "print(\"\\n shape of the matrix:\", tfidf_matrix.shape)"
   ]
  },
  {
   "cell_type": "code",
   "execution_count": 5,
   "id": "5f38de7d-dd09-4d0d-a356-145206794377",
   "metadata": {
    "jupyter": {
     "source_hidden": true
    }
   },
   "outputs": [
    {
     "name": "stdout",
     "output_type": "stream",
     "text": [
      "File is saved\n"
     ]
    }
   ],
   "source": [
    "# save file\n",
    "\n",
    "try:\n",
    "    if 'df' in locals():\n",
    "        df.to_csv(\"cleaned_text_pipeline.csv\", index = False)\n",
    "        print(f\"File is saved\")\n",
    "    else:\n",
    "        print(\"Dataframe not found\")\n",
    "\n",
    "except Exception as e:\n",
    "    print(f\"file not saved. An error occurred:{e}\")"
   ]
  },
  {
   "cell_type": "code",
   "execution_count": null,
   "id": "f69a2932-9c5a-4431-9a5f-1aa2b94a4b68",
   "metadata": {},
   "outputs": [],
   "source": []
  }
 ],
 "metadata": {
  "kernelspec": {
   "display_name": "Python 3.10",
   "language": "python",
   "name": "python310"
  },
  "language_info": {
   "codemirror_mode": {
    "name": "ipython",
    "version": 3
   },
   "file_extension": ".py",
   "mimetype": "text/x-python",
   "name": "python",
   "nbconvert_exporter": "python",
   "pygments_lexer": "ipython3",
   "version": "3.10.11"
  }
 },
 "nbformat": 4,
 "nbformat_minor": 5
}
