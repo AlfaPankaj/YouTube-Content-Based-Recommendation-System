{
 "cells": [
  {
   "cell_type": "code",
   "execution_count": 3,
   "id": "84232a75-0690-4a47-b288-382da8b794b0",
   "metadata": {
    "jupyter": {
     "source_hidden": true
    }
   },
   "outputs": [],
   "source": [
    "import pandas as pd \n",
    "from sklearn.feature_extraction.text import TfidfVectorizer\n",
    "from sklearn.metrics.pairwise import linear_kernel"
   ]
  },
  {
   "cell_type": "code",
   "execution_count": 8,
   "id": "67e358aa-a87a-4907-af02-51517fbffba4",
   "metadata": {
    "jupyter": {
     "source_hidden": true
    }
   },
   "outputs": [
    {
     "name": "stdout",
     "output_type": "stream",
     "text": [
      "<class 'pandas.core.frame.DataFrame'>\n",
      "RangeIndex: 5419 entries, 0 to 5418\n",
      "Data columns (total 22 columns):\n",
      " #   Column                 Non-Null Count  Dtype  \n",
      "---  ------                 --------------  -----  \n",
      " 0   video_id               5419 non-null   object \n",
      " 1   title                  5419 non-null   object \n",
      " 2   description            4103 non-null   object \n",
      " 3   tags                   5419 non-null   object \n",
      " 4   published_at           5419 non-null   object \n",
      " 5   channel_id             5419 non-null   object \n",
      " 6   channel_title          5419 non-null   object \n",
      " 7   category_id            5419 non-null   int64  \n",
      " 8   duration               5419 non-null   object \n",
      " 9   definition             5419 non-null   object \n",
      " 10  viewCount              5419 non-null   int64  \n",
      " 11  likeCount              5419 non-null   int64  \n",
      " 12  commentCount           5419 non-null   int64  \n",
      " 13  title_length           5419 non-null   int64  \n",
      " 14  published_year         5419 non-null   int64  \n",
      " 15  published_month        5419 non-null   int64  \n",
      " 16  published_day_of_week  5419 non-null   int64  \n",
      " 17  duration_seconds       5419 non-null   int64  \n",
      " 18  like_ratio             5419 non-null   float64\n",
      " 19  comment_ratio          5419 non-null   float64\n",
      " 20  tags_clean             3424 non-null   object \n",
      " 21  text_soup              5419 non-null   object \n",
      "dtypes: float64(2), int64(9), object(11)\n",
      "memory usage: 931.5+ KB\n"
     ]
    }
   ],
   "source": [
    "# load the data set\n",
    "\n",
    "df = pd.read_csv('cleaned_text_pipeline.csv')\n",
    "df.info()"
   ]
  },
  {
   "cell_type": "code",
   "execution_count": 17,
   "id": "1bee8f8c-c9cd-4644-9904-9f2b7bb7f229",
   "metadata": {
    "jupyter": {
     "source_hidden": true
    }
   },
   "outputs": [
    {
     "name": "stdout",
     "output_type": "stream",
     "text": [
      "Rcommendation system is ready\n"
     ]
    }
   ],
   "source": [
    "# TF-IDF Vertorization\n",
    "\n",
    "df['text_soup'] = df['text_soup'].fillna('')\n",
    "tfidf = TfidfVectorizer(stop_words='english')\n",
    "tfidf_matrix = tfidf.fit_transform(df['text_soup'])\n",
    "\n",
    "cosine_sim = linear_kernel(tfidf_matrix, tfidf_matrix)\n",
    "\n",
    "indices = pd.Series(df.index, index=df['title'])\n",
    "\n",
    "def get_recommendations(title):\n",
    "    \"\"\"\"\n",
    "    finds the top 10 most similar videos\n",
    "    \"\"\"\n",
    "\n",
    "    try:\n",
    "        idx = indices[title]\n",
    "        sim_scores = list(enumerate(cosine_sim[idx]))\n",
    "        sim_scores = sorted(sim_scores, key = lambda x: x[1], reverse = True)\n",
    "        sim_scores = sim_scores[1:11]\n",
    "\n",
    "        videos_indices = [i[0] for i in sim_scores]\n",
    "        return df['title'].iloc[videos_indices]\n",
    "    except KeyError:\n",
    "        return f\"Error: The title '{title}' was no found in the dataset\"\n",
    "    except Exception as e:\n",
    "        return f\"An error occurred: {e}\"\n",
    "\n",
    "print(\"Rcommendation system is ready\")     "
   ]
  },
  {
   "cell_type": "code",
   "execution_count": 18,
   "id": "dfe563f9-c47e-4113-a068-bac917d31151",
   "metadata": {
    "jupyter": {
     "source_hidden": true
    }
   },
   "outputs": [
    {
     "name": "stdout",
     "output_type": "stream",
     "text": [
      "\n",
      "Recommendations for: 'Top 3 Smartphone gadgets under ₹50||🔥🤯 #shorts #gadgets #viralvideo #ytshorts'\n",
      "3993    Top 3 best amazing cool gadgets 🔥🤯|| #shorts #...\n",
      "4039    cool gadgets you can buy #gadgets #shorts #you...\n",
      "243     amezing japan tech gadgets #shorts #gadgets #j...\n",
      "3989            top 3 amazing gadgets #shorts #technology\n",
      "398     Amazing Gadgets of 2025 You Won’t Believe Exis...\n",
      "315                4 Satisfying Gadgets  #gadgets #shorts\n",
      "378     top 3 gadgets 🤯 #gadgets #tech #unboxing #gami...\n",
      "59                     4 School Students Gadgets🤩 #shorts\n",
      "336                                       3 Cool Gadgets🔥\n",
      "420                26 Coolest Tech Gadgets 2025 On Amazon\n",
      "Name: title, dtype: object\n"
     ]
    }
   ],
   "source": [
    "# Test the recommendations system\n",
    "\n",
    "test_title = df['title'].iloc[5]\n",
    "\n",
    "print(f\"\\nRecommendations for: '{test_title}'\")\n",
    "\n",
    "recomm = get_recommendations(test_title)\n",
    "print(recomm)"
   ]
  }
 ],
 "metadata": {
  "kernelspec": {
   "display_name": "Python 3.10",
   "language": "python",
   "name": "python310"
  },
  "language_info": {
   "codemirror_mode": {
    "name": "ipython",
    "version": 3
   },
   "file_extension": ".py",
   "mimetype": "text/x-python",
   "name": "python",
   "nbconvert_exporter": "python",
   "pygments_lexer": "ipython3",
   "version": "3.10.11"
  }
 },
 "nbformat": 4,
 "nbformat_minor": 5
}
