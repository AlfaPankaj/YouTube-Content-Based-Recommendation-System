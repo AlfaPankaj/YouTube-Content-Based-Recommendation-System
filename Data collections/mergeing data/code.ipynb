{
 "cells": [
  {
   "cell_type": "code",
   "execution_count": 1,
   "id": "0026399f-b23b-4f1b-bfce-68604be1460e",
   "metadata": {},
   "outputs": [],
   "source": [
    "import pandas as pd"
   ]
  },
  {
   "cell_type": "code",
   "execution_count": 3,
   "id": "24bbba9b-3fea-440a-8ee0-1fead7fd95e2",
   "metadata": {},
   "outputs": [
    {
     "name": "stdout",
     "output_type": "stream",
     "text": [
      "Files loaded successfully.\n",
      "successfully combined 4335 rows from the first file and 3964 rows from the second file.\n",
      "New file 'Main.csv' created with total of 8299 rows.\n"
     ]
    }
   ],
   "source": [
    "try:\n",
    "    df1 = pd.read_csv('Main1.csv')\n",
    "    df2 = pd.read_csv('Main2.csv')\n",
    "    print(\"Files loaded successfully.\")\n",
    "except FileNotFoundError as e:\n",
    "    print(f\"Error: {e}.\")\n",
    "    exit()\n",
    "\n",
    "combined_df = pd.concat([df1, df2], ignore_index=True)\n",
    "\n",
    "combined_df.to_csv('Main.csv', index =False)\n",
    "\n",
    "print(f\"successfully combined {len(df1)} rows from the first file and {len(df2)} rows from the second file.\")\n",
    "print(f\"New file 'Main.csv' created with total of {len(combined_df)} rows.\")"
   ]
  },
  {
   "cell_type": "code",
   "execution_count": null,
   "id": "d08d32d7-fb70-410a-9e2b-a96dd6de4b01",
   "metadata": {},
   "outputs": [],
   "source": []
  }
 ],
 "metadata": {
  "kernelspec": {
   "display_name": "Python 3.10",
   "language": "python",
   "name": "python310"
  },
  "language_info": {
   "codemirror_mode": {
    "name": "ipython",
    "version": 3
   },
   "file_extension": ".py",
   "mimetype": "text/x-python",
   "name": "python",
   "nbconvert_exporter": "python",
   "pygments_lexer": "ipython3",
   "version": "3.10.11"
  }
 },
 "nbformat": 4,
 "nbformat_minor": 5
}
