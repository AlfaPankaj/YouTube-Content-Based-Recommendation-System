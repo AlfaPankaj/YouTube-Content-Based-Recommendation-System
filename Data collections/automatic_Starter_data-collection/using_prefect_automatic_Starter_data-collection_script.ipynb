{
 "cells": [
  {
   "cell_type": "code",
   "execution_count": 1,
   "id": "46819e8e-b9d0-42d4-988c-33a7f2cd91d9",
   "metadata": {
    "collapsed": true,
    "jupyter": {
     "outputs_hidden": true,
     "source_hidden": true
    }
   },
   "outputs": [
    {
     "name": "stdout",
     "output_type": "stream",
     "text": [
      "C:\\Users\\PANKAJ\\AppData\\Local\\Programs\\Python\\Python310\\python.exe\n"
     ]
    }
   ],
   "source": [
    "#import sys\n",
    "#print(sys.executable)"
   ]
  },
  {
   "cell_type": "code",
   "execution_count": 15,
   "id": "1b6f2c81-2d7b-4148-a89d-a01205be296e",
   "metadata": {
    "jupyter": {
     "source_hidden": true
    }
   },
   "outputs": [],
   "source": [
    "# library\n",
    "\n",
    "import os\n",
    "import time\n",
    "import pandas as pd\n",
    "import sqlite3\n",
    "from googleapiclient.discovery import build\n",
    "from googleapiclient.errors import HttpError\n",
    "from dotenv import load_dotenv\n",
    "from prefect import task, flow"
   ]
  },
  {
   "cell_type": "code",
   "execution_count": 16,
   "id": "2b5efe17-1726-4ecf-8cf8-450cd2f2a056",
   "metadata": {
    "jupyter": {
     "source_hidden": true
    }
   },
   "outputs": [],
   "source": [
    "# api key load\n",
    "\n",
    "load_dotenv()\n",
    "API_KEY = os.getenv(\"YOUTUBE_API_KEY\")\n",
    "youtube = build(\"youtube\",\"v3\", developerKey = API_KEY)"
   ]
  },
  {
   "cell_type": "code",
   "execution_count": null,
   "id": "83d56b07-e171-4479-aaf2-a0258c516f4b",
   "metadata": {
    "jupyter": {
     "source_hidden": true
    }
   },
   "outputs": [],
   "source": [
    "# task\n",
    "\n",
    "def chunks(lst, n):\n",
    "    for i in range(0, len(lst), n):\n",
    "        yield lst[i:i + n]\n",
    "\n",
    "@task\n",
    "def search_videos(query, max_results = 500, regionCode = \"IN\"):\n",
    "    results = []\n",
    "    try:\n",
    "        request = Youtube().list(q = query, part = \"id\", type = \"video\", max_Results = 50, regionCode=regionCode)\n",
    "        while request and len(results) < max_results:\n",
    "            resp = request.execute()\n",
    "            for item in resp.get(\"item\", []):\n",
    "                if item['id']['kind'] == 'youtube#video':\n",
    "                    results.append(item[\"id\"][\"videoId\"])\n",
    "                if len(results) >= max_results:\n",
    "                    break\n",
    "            request = Youtube().list_next(request, resp)\n",
    "            time.sleep(0.1)\n",
    "    except HttpError as e:\n",
    "         print(f\"An error occurred during search: {e}\")\n",
    "    return results \n",
    "\n",
    "@task\n",
    "def get_video_details(video_ids):\n",
    "    \"\"\"Fetches details for a list of video IDs.\"\"\"\n",
    "    rows[]\n",
    "    for batch in chunks(video_ids, 50):\n",
    "        try:\n",
    "            resp = youtube.videos().list(part=\"snippet,contentDetails,statistics\", id=\",\".jion(batch), maxResults = 50).execut()\n",
    "        except HttpError as e:\n",
    "            print(f\"HttpError: {e}\")\n",
    "            time.sleep(5)\n",
    "            continue\n",
    "        for item in resp.get(\"items\",[]):\n",
    "            snip = item.get(\"snippet\", {}); stats = item.get(\"statistics\", {}); content = item.get(\"contentDetails\", {})\n",
    "            like_count = stats.get(\"likeCount\"); comment_count = stats.get(\"commentCount\")\n",
    "            rows.append({\n",
    "                \"video_id\": item.get(\"id\"), \"title\": snip.get(\"title\"), \"description\": snip.get(\"description\"),\n",
    "                \"tags\": json.dumps(snip.get(\"tags\", [])), \"published_at\": snip.get(\"publishedAt\"), \"channel_id\": snip.get(\"channelId\"),\n",
    "                \"channel_title\": snip.get(\"channelTitle\"), \"category_id\": snip.get(\"categoryId\"), \"duration\": content.get(\"duration\"),\n",
    "                \"definition\": content.get(\"definition\"), \"viewCount\": int(stats.get(\"viewCount\", 0)),\n",
    "                \"likeCount\": int(like_count) if like_count is not None else None,\n",
    "                \"commentCount\": int(comment_count) if comment_count is not None else None,\n",
    "            })\n",
    "        time.sleep(0.1)\n",
    "    return rows"
   ]
  },
  {
   "cell_type": "code",
   "execution_count": null,
   "id": "c946ab3a-a867-421e-b5bf-b357b9c15b16",
   "metadata": {
    "jupyter": {
     "source_hidden": true
    }
   },
   "outputs": [],
   "source": [
    "# flow\n",
    "\n",
    "def youtube_data_pipeline(queries, out_csv=\"youtube_videos.csv\", sqlite_db=\"youtube_videos.db\"):\n",
    "    \"\"\"Main flow to orchestrate searching, fetching, and storing.\"\"\"\n",
    "    all_rows = []\n",
    "    for q in queries:\n",
    "        print(f\"Searching for query: '{q}'....\")\n",
    "        ids = search_videos(q, max_resuts=500)\n",
    "        print(f\" -> Found {len(ids)} videos IDs.\")\n",
    "        if ids:\n",
    "            rows = get_videos_details(ids)\n",
    "            all_rows.extend(rows)\n",
    "            print(f\" -> Fetched details for {len(rows)} videos.\")\n",
    "     if not all_rows:\n",
    "         pint(\"No video data was collected. Exiting.\")\n",
    "         return\n",
    "\n",
    "     df = pd.DataFrame(all_rows).drop_duplicates(subset=[\"video_id\"])\n",
    "     df.to_csv(out_csv, index =Fasle)\n",
    "     conn = sqlite3.connect(sqlite_db)\n",
    "     df.to_sql(\"videos\", conn, if_exists=\"replace\", index= False)\n",
    "     conn.close()\n",
    "     print(f\"\\nSaved {len(df)} unique videos to '{out_csv}' and '{sqlite_db}'.\")\n",
    "\n",
    "if __name__ == \"__main__\":\n",
    "    queries_to_run = [\"technology\", \"education\", \"music\", \"gaming\", \"sports\", \"comedy\", \"news\", \"cooking\", \"travel\"]\n",
    "    youtube_data_pipeline(queries_to_run, out_csv=\"youtube_sample.csv\") "
   ]
  }
 ],
 "metadata": {
  "kernelspec": {
   "display_name": "Python 3.10",
   "language": "python",
   "name": "python310"
  },
  "language_info": {
   "codemirror_mode": {
    "name": "ipython",
    "version": 3
   },
   "file_extension": ".py",
   "mimetype": "text/x-python",
   "name": "python",
   "nbconvert_exporter": "python",
   "pygments_lexer": "ipython3",
   "version": "3.10.11"
  }
 },
 "nbformat": 4,
 "nbformat_minor": 5
}
