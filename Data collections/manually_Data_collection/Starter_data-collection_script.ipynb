{
 "cells": [
  {
   "cell_type": "code",
   "execution_count": 1,
   "id": "e4c706fe-e753-43f3-a19b-e559c1260a0d",
   "metadata": {
    "jupyter": {
     "source_hidden": true
    }
   },
   "outputs": [],
   "source": [
    "# library\n",
    "\n",
    "import os, time, json, sqlite3\n",
    "from googleapiclient.discovery import build\n",
    "from googleapiclient.errors import HttpError\n",
    "import pandas as pd\n",
    "from tqdm import tqdm\n",
    "import os"
   ]
  },
  {
   "cell_type": "code",
   "execution_count": 11,
   "id": "67d8c600-60c4-4f07-9006-58de716537e3",
   "metadata": {
    "jupyter": {
     "source_hidden": true
    }
   },
   "outputs": [],
   "source": [
    "#load api key\n",
    "\n",
    "API_KEY = os.getenv(\"YOUTUBE_API_KEY\")\n",
    "youtube = build(\"youtube\",\"v3\", developerKey= API_KEY)"
   ]
  },
  {
   "cell_type": "code",
   "execution_count": 7,
   "id": "889dd9ea-b395-46be-b68e-ed064ca33cef",
   "metadata": {
    "jupyter": {
     "source_hidden": true
    }
   },
   "outputs": [],
   "source": [
    "# Main with schema suggestions(columns)\n",
    "\n",
    "\n",
    "def chunks(lst, n):\n",
    "    for i in range(0, len(lst), n):\n",
    "        yield lst[i:i+n]\n",
    "\n",
    "def get_video_details(video_ids):\n",
    "    rows = []\n",
    "    for batch in chunks(video_ids, 50):\n",
    "        try:\n",
    "            resp = youtube.videos().list(\n",
    "                part = \"snippet, contentDetails, statistics\",\n",
    "                id = \",\".join(batch),\n",
    "                maxResults = 50\n",
    "            ).execute()\n",
    "        except HttpError as e:\n",
    "             print(\"HttpError:\",e)\n",
    "             time.sleep(5)\n",
    "             continue\n",
    "\n",
    "        for item in resp.get(\"items\", []):\n",
    "            snip = item.get(\"snippet\",{})\n",
    "            stats = item.get(\"statistics\",{})\n",
    "            content = item.get(\"contentDetails\",{})\n",
    "            rows.append({\n",
    "             \"video_id\": item.get(\"id\"),\n",
    "             \"title\": snip.get(\"title\"),\n",
    "             \"description\": snip.get(\"description\"),\n",
    "             \"tags\": json.dumps(snip.get(\"tags\", [])),\n",
    "             \"published_at\": snip.get(\"publishedAt\"),\n",
    "             \"channel_id\": snip.get(\"channelId\"),\n",
    "             \"channel_title\": snip.get(\"channelTitle\"),\n",
    "             \"category_id\": snip.get(\"categoryId\"),\n",
    "             \"duration\": content.get(\"duration\"),\n",
    "             \"definition\": content.get(\"definition\"),\n",
    "             \"viewCount\": int(stats.get(\"viewCount\", 0)),\n",
    "             \"likeCount\": int(stats.get(\"likeCount\")) if stats.get(\"likeCount\") else None,\n",
    "             \"commentCount\": int(stats.get(\"commentCount\")) if stats.get(\"commentCount\") else None,\n",
    "            })\n",
    "        time.sleep(0.1)\n",
    "    return rows\n",
    "             "
   ]
  },
  {
   "cell_type": "code",
   "execution_count": 8,
   "id": "a053a503-d3b7-4a7b-8b02-39490fe28c61",
   "metadata": {
    "jupyter": {
     "source_hidden": true
    }
   },
   "outputs": [
    {
     "name": "stdout",
     "output_type": "stream",
     "text": [
      "Searching: technology\n",
      " -> 500 ids\n",
      "Searching: education\n",
      " -> 350 ids\n",
      "Searching: music\n",
      " -> 350 ids\n",
      "Searching: gaming\n",
      " -> 500 ids\n",
      "Searching: sports\n",
      " -> 500 ids\n",
      "Searching: comedy\n",
      " -> 500 ids\n",
      "Searching: news\n",
      " -> 500 ids\n",
      "Searching: cooking\n",
      " -> 500 ids\n",
      "Searching: travel\n",
      " -> 500 ids\n",
      "Saved 3779 videos to youtube_sample.csv and youtube_videos.db\n"
     ]
    }
   ],
   "source": [
    "# for search videos and fetch & store\n",
    "\n",
    "def search_videos(query, max_results = 500, regionCode = \"IN\"):\n",
    "    results = []\n",
    "    request = youtube.search().list(\n",
    "        q = query, part = \"id\", type = \"video\", maxResults = 50, regionCode = regionCode\n",
    "    )\n",
    "    while request and len(results) < max_results:\n",
    "        resp = request.execute()\n",
    "        for it in resp.get(\"items\",[]):\n",
    "            if it['id']['kind'] == 'youtube#video':\n",
    "                vid = it[\"id\"][\"videoId\"]\n",
    "            results.append(vid)\n",
    "            if len(results) >= max_results:\n",
    "                break\n",
    "        request = youtube.search().list_next(request, resp)\n",
    "        time.sleep(0.1)\n",
    "    return results\n",
    "\n",
    "def fetch_and_store(queries, out_csv=\"youtube_videos.csv\", sqlite_db=\"youtube_videos.db\"):\n",
    "    all_rows = []\n",
    "    for q in queries:\n",
    "        print(\"Searching:\",q)\n",
    "        ids = search_videos(q, max_results = 500)\n",
    "        print(f\" -> {len(ids)} ids\")\n",
    "        rows = get_video_details(ids)\n",
    "        all_rows.extend(rows)\n",
    "\n",
    "# saving to sql & csv file\n",
    "     \n",
    "    df = pd.DataFrame(all_rows).drop_duplicates(subset=[\"video_id\"])\n",
    "    df.to_csv(out_csv, index=False)\n",
    "    conn = sqlite3.connect(sqlite_db)\n",
    "    df.to_sql(\"videos\", conn, if_exists= \"replace\", index = False)\n",
    "    conn.close()\n",
    "    print(\"Saved\", len(df), \"videos to\", out_csv, \"and\", sqlite_db)\n",
    "\n",
    "if __name__ == \"__main__\":\n",
    "    queries = [\"technology\",\"education\",\"music\",\"gaming\",\"sports\",\"comedy\",\"news\",\"cooking\",\"travel\"]\n",
    "    fetch_and_store(queries, out_csv=\"youtube_sample.csv\")"
   ]
  },
  {
   "cell_type": "code",
   "execution_count": null,
   "id": "332ecc7e-e516-4ade-a68c-f9f8ac7b21d9",
   "metadata": {},
   "outputs": [],
   "source": []
  }
 ],
 "metadata": {
  "kernelspec": {
   "display_name": "Python 3.10",
   "language": "python",
   "name": "python310"
  },
  "language_info": {
   "codemirror_mode": {
    "name": "ipython",
    "version": 3
   },
   "file_extension": ".py",
   "mimetype": "text/x-python",
   "name": "python",
   "nbconvert_exporter": "python",
   "pygments_lexer": "ipython3",
   "version": "3.10.11"
  }
 },
 "nbformat": 4,
 "nbformat_minor": 5
}
